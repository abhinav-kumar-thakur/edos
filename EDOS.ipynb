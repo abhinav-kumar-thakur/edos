{
  "cells": [
    {
      "cell_type": "code",
      "execution_count": null,
      "metadata": {
        "id": "3_TpA1wIIFHk"
      },
      "outputs": [
        {
          "ename": "",
          "evalue": "",
          "output_type": "error",
          "traceback": [
            "\u001b[1;31mRunning cells with 'semeval_edos' requires ipykernel package.\n",
            "\u001b[1;31mRun the following command to install 'ipykernel' into the Python environment. \n",
            "\u001b[1;31mCommand: 'conda install -n semeval_edos ipykernel --update-deps --force-reinstall'"
          ]
        }
      ],
      "source": [
        "!date"
      ]
    },
    {
      "cell_type": "code",
      "execution_count": null,
      "metadata": {
        "id": "bfg8ZTuVLfch"
      },
      "outputs": [],
      "source": [
        "!git clone https://<username>:<auth-token>@github.com/abhinav-kumar-thakur/edos\n",
        "!git config --global user.email \"abhinavkumarthakur786@gmail.com\"\n",
        "!git config --global user.name \"Abhinav Kumar Thakur\""
      ]
    },
    {
      "cell_type": "code",
      "execution_count": null,
      "metadata": {
        "colab": {
          "base_uri": "https://localhost:8080/"
        },
        "id": "C3u7tuTXM6nr",
        "outputId": "da31be83-f3fb-439a-df60-bfc53c2cc0ee"
      },
      "outputs": [
        {
          "name": "stdout",
          "output_type": "stream",
          "text": [
            "/content/edos\n"
          ]
        }
      ],
      "source": [
        "%cd edos"
      ]
    },
    {
      "cell_type": "code",
      "execution_count": null,
      "metadata": {
        "id": "LHTawMvfTRdn"
      },
      "outputs": [],
      "source": [
        "!git checkout unifiedQA"
      ]
    },
    {
      "cell_type": "code",
      "execution_count": null,
      "metadata": {
        "id": "JZhDb0__MdN5"
      },
      "outputs": [],
      "source": [
        "!cp -r /content/drive/MyDrive/EDOS/data /content/edos/data"
      ]
    },
    {
      "cell_type": "code",
      "execution_count": null,
      "metadata": {
        "id": "awUwu713MyX-"
      },
      "outputs": [],
      "source": [
        "!pip install transformers[sentencepiece] > ./logs/install_transformers.log\n",
        "!pip install accelerate > ./logs/install_accelerator.log"
      ]
    },
    {
      "cell_type": "code",
      "execution_count": 2,
      "metadata": {},
      "outputs": [
        {
          "name": "stderr",
          "output_type": "stream",
          "text": [
            "'PYTHONPATH' is not recognized as an internal or external command,\n",
            "operable program or batch file.\n"
          ]
        }
      ],
      "source": [
        "!PYTHONPATH=. python src/preprocesser/oversampler.py --config unifiedQA-M-e1.json"
      ]
    },
    {
      "cell_type": "code",
      "execution_count": 2,
      "metadata": {},
      "outputs": [
        {
          "name": "stdout",
          "output_type": "stream",
          "text": [
            " Volume in drive C is OS\n",
            " Volume Serial Number is BA02-7BFB\n",
            "\n",
            " Directory of c:\\SemEval\\edos\n",
            "\n",
            "31-12-2022  16:55    <DIR>          .\n",
            "31-12-2022  16:55    <DIR>          ..\n",
            "29-12-2022  09:04             1,977 .gitignore\n",
            "21-12-2022  17:52    <DIR>          .vscode\n",
            "31-12-2022  16:55    <DIR>          configs\n",
            "03-01-2023  12:50    <DIR>          data\n",
            "03-01-2023  13:07             3,902 EDOS.ipynb\n",
            "23-12-2022  08:31    <DIR>          envs\n",
            "20-12-2022  07:59             1,098 LICENSE\n",
            "20-12-2022  07:59    <DIR>          logs\n",
            "03-01-2023  12:10    <DIR>          notebooks\n",
            "29-12-2022  09:04               499 README.md\n",
            "03-01-2023  12:10    <DIR>          src\n",
            "               4 File(s)          7,476 bytes\n",
            "               9 Dir(s)  72,710,733,824 bytes free\n"
          ]
        }
      ],
      "source": [
        "%ls"
      ]
    },
    {
      "cell_type": "code",
      "execution_count": 6,
      "metadata": {
        "id": "16OygkAgNBOY"
      },
      "outputs": [
        {
          "name": "stderr",
          "output_type": "stream",
          "text": [
            "Traceback (most recent call last):\n",
            "  File \"c:\\SemEval\\edos\\src\\runner\\classify.py\", line 6, in <module>\n",
            "    from src.config_reader import read_json_configs, read_dict_configs\n",
            "ModuleNotFoundError: No module named 'src'\n"
          ]
        }
      ],
      "source": [
        "!python src/runner/classify.py --device cuda --config local.json"
      ]
    }
  ],
  "metadata": {
    "accelerator": "GPU",
    "colab": {
      "provenance": []
    },
    "gpuClass": "standard",
    "kernelspec": {
      "display_name": "semeval_edos",
      "language": "python",
      "name": "python3"
    },
    "language_info": {
      "codemirror_mode": {
        "name": "ipython",
        "version": 3
      },
      "file_extension": ".py",
      "mimetype": "text/x-python",
      "name": "python",
      "nbconvert_exporter": "python",
      "pygments_lexer": "ipython3",
      "version": "3.10.8"
    },
    "vscode": {
      "interpreter": {
        "hash": "25b73b9da2a9f6747606e6ed9dc1bf94844b5d37d221581361fd74cd6e58a4ee"
      }
    }
  },
  "nbformat": 4,
  "nbformat_minor": 0
}
