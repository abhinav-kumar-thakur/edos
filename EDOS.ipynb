{
  "cells": [
    {
      "cell_type": "code",
      "execution_count": 1,
      "metadata": {
        "id": "3_TpA1wIIFHk"
      },
      "outputs": [
        {
          "name": "stdout",
          "output_type": "stream",
          "text": [
            "^C\n",
            "The current date is: 24-12-2022 \n",
            "Enter the new date: (dd-mm-yy) \n"
          ]
        }
      ],
      "source": [
        "!date"
      ]
    },
    {
      "cell_type": "code",
      "execution_count": null,
      "metadata": {
        "id": "bfg8ZTuVLfch"
      },
      "outputs": [],
      "source": [
        "!git clone https://<username>:<auth-token>@github.com/abhinav-kumar-thakur/edos\n",
        "!git config --global user.email \"abhinavkumarthakur786@gmail.com\"\n",
        "!git config --global user.name \"Abhinav Kumar Thakur\""
      ]
    },
    {
      "cell_type": "code",
      "execution_count": null,
      "metadata": {
        "colab": {
          "base_uri": "https://localhost:8080/"
        },
        "id": "C3u7tuTXM6nr",
        "outputId": "da31be83-f3fb-439a-df60-bfc53c2cc0ee"
      },
      "outputs": [
        {
          "name": "stdout",
          "output_type": "stream",
          "text": [
            "/content/edos\n"
          ]
        }
      ],
      "source": [
        "%cd edos"
      ]
    },
    {
      "cell_type": "code",
      "execution_count": null,
      "metadata": {
        "id": "LHTawMvfTRdn"
      },
      "outputs": [],
      "source": [
        "!git checkout unifiedQA"
      ]
    },
    {
      "cell_type": "code",
      "execution_count": null,
      "metadata": {
        "id": "JZhDb0__MdN5"
      },
      "outputs": [],
      "source": [
        "!cp -r /content/drive/MyDrive/EDOS/data /content/edos/data"
      ]
    },
    {
      "cell_type": "code",
      "execution_count": null,
      "metadata": {
        "id": "awUwu713MyX-"
      },
      "outputs": [],
      "source": [
        "!pip install transformers[sentencepiece] > ./logs/install_transformers.log\n",
        "!pip install accelerate > ./logs/install_accelerator.log"
      ]
    },
    {
      "cell_type": "code",
      "execution_count": 2,
      "metadata": {},
      "outputs": [
        {
          "name": "stderr",
          "output_type": "stream",
          "text": [
            "'PYTHONPATH' is not recognized as an internal or external command,\n",
            "operable program or batch file.\n"
          ]
        }
      ],
      "source": [
        "!PYTHONPATH=. python src/preprocesser/oversampler.py --config unifiedQA-M-e1.json"
      ]
    },
    {
      "cell_type": "code",
      "execution_count": null,
      "metadata": {
        "id": "16OygkAgNBOY"
      },
      "outputs": [],
      "source": [
        "!PYTHONPATH=. python src/runner/classify.py --device --config local.json"
      ]
    }
  ],
  "metadata": {
    "accelerator": "GPU",
    "colab": {
      "provenance": []
    },
    "gpuClass": "standard",
    "kernelspec": {
      "display_name": "base",
      "language": "python",
      "name": "python3"
    },
    "language_info": {
      "codemirror_mode": {
        "name": "ipython",
        "version": 3
      },
      "file_extension": ".py",
      "mimetype": "text/x-python",
      "name": "python",
      "nbconvert_exporter": "python",
      "pygments_lexer": "ipython3",
      "version": "3.8.3"
    },
    "vscode": {
      "interpreter": {
        "hash": "95dbe37dc974f347ad14e4737de1e6dd65d6f54ebb458ae6b13c0640081fa03c"
      }
    }
  },
  "nbformat": 4,
  "nbformat_minor": 0
}
